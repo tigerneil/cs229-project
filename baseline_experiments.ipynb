{
 "cells": [
  {
   "cell_type": "code",
   "execution_count": 1,
   "metadata": {},
   "outputs": [],
   "source": [
    "from importlib import reload\n",
    "import sys\n",
    "import util\n",
    "reload(util)\n",
    "data = util.FontData\n",
    "FontDataset = util.FontDataset\n",
    "import experiment\n",
    "reload(experiment)\n",
    "from sklearn import linear_model, neural_network"
   ]
  },
  {
   "cell_type": "code",
   "execution_count": 2,
   "metadata": {
    "scrolled": false
   },
   "outputs": [
    {
     "name": "stdout",
     "output_type": "stream",
     "text": [
      "Loading embeddings...done\n",
      "Loading typographic + semantic vectors...done\n",
      "Loading images...done\n",
      "Loading glyphs...done\n",
      "Loading SVGs...done\n"
     ]
    }
   ],
   "source": [
    "data.load()"
   ]
  },
  {
   "cell_type": "code",
   "execution_count": 3,
   "metadata": {},
   "outputs": [],
   "source": [
    "train_dataset = FontDataset(data, 'train')\n",
    "val_dataset = FontDataset(data, 'val')\n",
    "test_dataset = FontDataset(data, 'test')\n"
   ]
  },
  {
   "cell_type": "code",
   "execution_count": 16,
   "metadata": {},
   "outputs": [],
   "source": [
    "train_typographic = data.get_all_typographic('train')\n",
    "val_typographic = data.get_all_typographic('val')\n",
    "test_typographic = data.get_all_typographic('test')"
   ]
  },
  {
   "cell_type": "code",
   "execution_count": 26,
   "metadata": {},
   "outputs": [],
   "source": [
    "train_image = data.get_all_image('train')\n",
    "train_image = train_image.reshape(train_image.shape[0], -1)\n",
    "val_image = data.get_all_image('val')\n",
    "val_image = val_image.reshape(val_image.shape[0], -1)\n",
    "test_image = data.get_all_image('test')\n",
    "test_image = test_image.reshape(test_image.shape[0], -1)"
   ]
  },
  {
   "cell_type": "code",
   "execution_count": 27,
   "metadata": {},
   "outputs": [],
   "source": [
    "train_semantic = data.get_all_semantic('train')\n",
    "val_semantic = data.get_all_semantic('val')\n",
    "test_semantic = data.get_all_semantic('test')"
   ]
  },
  {
   "cell_type": "markdown",
   "metadata": {},
   "source": [
    "### Linear Regression: Image -> Typographic"
   ]
  },
  {
   "cell_type": "code",
   "execution_count": 28,
   "metadata": {},
   "outputs": [],
   "source": [
    "image_typographic_reg = linear_model.LinearRegression()"
   ]
  },
  {
   "cell_type": "code",
   "execution_count": 29,
   "metadata": {},
   "outputs": [
    {
     "data": {
      "text/plain": [
       "LinearRegression(copy_X=True, fit_intercept=True, n_jobs=None, normalize=False)"
      ]
     },
     "execution_count": 29,
     "metadata": {},
     "output_type": "execute_result"
    }
   ],
   "source": [
    "image_typographic_reg.fit(train_image, train_typographic)"
   ]
  },
  {
   "cell_type": "code",
   "execution_count": 30,
   "metadata": {
    "scrolled": false
   },
   "outputs": [
    {
     "name": "stdout",
     "output_type": "stream",
     "text": [
      "{'RMSE': 1.3977822845845367e-06, 'R2': 0.9999999998341788}\n"
     ]
    }
   ],
   "source": [
    "train_stats, train_typographic_pred = experiment.run_experiment(image_typographic_reg, train_image, train_typographic)"
   ]
  },
  {
   "cell_type": "code",
   "execution_count": 31,
   "metadata": {
    "scrolled": true
   },
   "outputs": [
    {
     "name": "stdout",
     "output_type": "stream",
     "text": [
      "{'RMSE': 0.10177131742238998, 'R2': 0.5893038248632995}\n"
     ]
    }
   ],
   "source": [
    "val_stats, val_typographic_pred = experiment.run_experiment(image_typographic_reg, val_image, val_typographic)"
   ]
  },
  {
   "cell_type": "code",
   "execution_count": 32,
   "metadata": {},
   "outputs": [
    {
     "name": "stdout",
     "output_type": "stream",
     "text": [
      "{'RMSE': 0.07531864196062088, 'R2': 0.4952896890912051}\n"
     ]
    }
   ],
   "source": [
    "test_stats, test_typographic_pred = experiment.run_experiment(image_typographic_reg, test_image, test_typographic)"
   ]
  },
  {
   "cell_type": "markdown",
   "metadata": {},
   "source": [
    "### Linear Regression: Typographic -> Semantic"
   ]
  },
  {
   "cell_type": "code",
   "execution_count": 33,
   "metadata": {},
   "outputs": [],
   "source": [
    "typographic_semantic_reg = linear_model.LinearRegression()"
   ]
  },
  {
   "cell_type": "code",
   "execution_count": 34,
   "metadata": {},
   "outputs": [
    {
     "data": {
      "text/plain": [
       "LinearRegression(copy_X=True, fit_intercept=True, n_jobs=None, normalize=False)"
      ]
     },
     "execution_count": 34,
     "metadata": {},
     "output_type": "execute_result"
    }
   ],
   "source": [
    "typographic_semantic_reg.fit(train_typographic, train_semantic)"
   ]
  },
  {
   "cell_type": "code",
   "execution_count": 35,
   "metadata": {},
   "outputs": [
    {
     "name": "stdout",
     "output_type": "stream",
     "text": [
      "{'RMSE': 0.10326619446277618, 'R2': 0.5034361427743564}\n"
     ]
    }
   ],
   "source": [
    "train_stats, train_semantic_pred = experiment.run_experiment(typographic_semantic_reg, train_typographic, train_semantic)"
   ]
  },
  {
   "cell_type": "code",
   "execution_count": 36,
   "metadata": {
    "scrolled": true
   },
   "outputs": [
    {
     "name": "stdout",
     "output_type": "stream",
     "text": [
      "{'RMSE': 0.106668621301651, 'R2': 0.5101831289972383}\n"
     ]
    }
   ],
   "source": [
    "val_stats, val_semantic_pred = experiment.run_experiment(typographic_semantic_reg, val_typographic, val_semantic)"
   ]
  },
  {
   "cell_type": "code",
   "execution_count": 46,
   "metadata": {},
   "outputs": [
    {
     "name": "stdout",
     "output_type": "stream",
     "text": [
      "{'RMSE': 0.1053079217672348, 'R2': 0.4863880163141386}\n"
     ]
    }
   ],
   "source": [
    "test_stats, test_semantic_pred = experiment.run_experiment(typographic_semantic_reg, test_typographic, test_semantic)"
   ]
  },
  {
   "cell_type": "markdown",
   "metadata": {},
   "source": [
    "### Linear Regressions: Image -> Typographic -> Semantic"
   ]
  },
  {
   "cell_type": "code",
   "execution_count": 37,
   "metadata": {},
   "outputs": [],
   "source": [
    "class SequentialLinearRegression:\n",
    "    def __init__(self, reg1, reg2):\n",
    "        self.reg1 = reg1\n",
    "        self.reg2 = reg2\n",
    "    def predict(self, X):\n",
    "        return self.reg2.predict(self.reg1.predict(X))\n",
    "\n",
    "image_typographic_semantic_reg = SequentialLinearRegression(image_typographic_reg, typographic_semantic_reg)"
   ]
  },
  {
   "cell_type": "code",
   "execution_count": 38,
   "metadata": {},
   "outputs": [
    {
     "data": {
      "text/plain": [
       "array([[0.33920993, 0.24672677, 0.45607575, ..., 0.46512891, 0.59643258,\n",
       "        0.54990847],\n",
       "       [0.49424582, 0.46839964, 0.37099306, ..., 0.65840484, 0.43551042,\n",
       "        0.48553453],\n",
       "       [0.24767428, 0.07544883, 0.25545198, ..., 0.65944604, 0.37622461,\n",
       "        0.45430069],\n",
       "       ...,\n",
       "       [0.73453555, 0.70904671, 0.56249398, ..., 0.47190857, 0.76819777,\n",
       "        0.45068339],\n",
       "       [0.74848685, 0.62451316, 0.45640533, ..., 0.50166912, 0.41377995,\n",
       "        0.35790375],\n",
       "       [0.71824549, 0.84435252, 0.47846678, ..., 0.72807055, 0.45456135,\n",
       "        0.31400816]])"
      ]
     },
     "execution_count": 38,
     "metadata": {},
     "output_type": "execute_result"
    }
   ],
   "source": [
    "train_semantic"
   ]
  },
  {
   "cell_type": "code",
   "execution_count": 39,
   "metadata": {},
   "outputs": [
    {
     "name": "stdout",
     "output_type": "stream",
     "text": [
      "{'RMSE': 0.1032661497592926, 'R2': 0.503436530931538}\n"
     ]
    }
   ],
   "source": [
    "train_stats, train_semantic_pred = experiment.run_experiment(image_typographic_semantic_reg, train_image, train_semantic)"
   ]
  },
  {
   "cell_type": "code",
   "execution_count": 40,
   "metadata": {
    "scrolled": false
   },
   "outputs": [
    {
     "name": "stdout",
     "output_type": "stream",
     "text": [
      "{'RMSE': 0.11760729551315308, 'R2': 0.4122227357775069}\n"
     ]
    }
   ],
   "source": [
    "val_stats, val_semantic_pred = experiment.run_experiment(image_typographic_semantic_reg, val_image, val_semantic)"
   ]
  },
  {
   "cell_type": "code",
   "execution_count": 47,
   "metadata": {},
   "outputs": [
    {
     "name": "stdout",
     "output_type": "stream",
     "text": [
      "{'RMSE': 0.1053079217672348, 'R2': 0.4863880163141386}\n"
     ]
    }
   ],
   "source": [
    "test_stats, test_semantic_pred = experiment.run_experiment(typographic_semantic_reg, test_typographic, test_semantic)"
   ]
  },
  {
   "cell_type": "markdown",
   "metadata": {},
   "source": [
    "### Linear Regression: Image -> Semantic"
   ]
  },
  {
   "cell_type": "code",
   "execution_count": 41,
   "metadata": {},
   "outputs": [],
   "source": [
    "image_semantic_reg = linear_model.LinearRegression()"
   ]
  },
  {
   "cell_type": "code",
   "execution_count": 42,
   "metadata": {},
   "outputs": [
    {
     "data": {
      "text/plain": [
       "LinearRegression(copy_X=True, fit_intercept=True, n_jobs=None, normalize=False)"
      ]
     },
     "execution_count": 42,
     "metadata": {},
     "output_type": "execute_result"
    }
   ],
   "source": [
    "image_semantic_reg.fit(train_image, train_semantic)"
   ]
  },
  {
   "cell_type": "code",
   "execution_count": 43,
   "metadata": {
    "scrolled": true
   },
   "outputs": [
    {
     "name": "stdout",
     "output_type": "stream",
     "text": [
      "{'RMSE': 1.3475322475642315e-06, 'R2': 0.9999999999189795}\n"
     ]
    }
   ],
   "source": [
    "train_stats, train_semantic_pred = experiment.run_experiment(image_semantic_reg, train_image, train_semantic)"
   ]
  },
  {
   "cell_type": "code",
   "execution_count": 44,
   "metadata": {
    "scrolled": true
   },
   "outputs": [
    {
     "name": "stdout",
     "output_type": "stream",
     "text": [
      "{'RMSE': 0.07973702996969223, 'R2': 0.7187900568850076}\n"
     ]
    }
   ],
   "source": [
    "val_stats, val_semantic_pred = experiment.run_experiment(image_semantic_reg, val_image, val_semantic)"
   ]
  },
  {
   "cell_type": "code",
   "execution_count": 48,
   "metadata": {},
   "outputs": [
    {
     "name": "stdout",
     "output_type": "stream",
     "text": [
      "{'RMSE': 0.06820797920227051, 'R2': 0.7730728338637595}\n"
     ]
    }
   ],
   "source": [
    "test_stats, test_semantic_pred = experiment.run_experiment(image_semantic_reg, test_image, test_semantic)"
   ]
  },
  {
   "cell_type": "markdown",
   "metadata": {},
   "source": [
    "### Multilayer Perceptron: Image -> Semantic"
   ]
  },
  {
   "cell_type": "code",
   "execution_count": 28,
   "metadata": {},
   "outputs": [],
   "source": [
    "image_semantic_nn = neural_network.MLPRegressor(hidden_layer_sizes=(10,), max_iter=500)"
   ]
  },
  {
   "cell_type": "code",
   "execution_count": 29,
   "metadata": {},
   "outputs": [
    {
     "data": {
      "text/plain": [
       "MLPRegressor(activation='relu', alpha=0.0001, batch_size='auto', beta_1=0.9,\n",
       "             beta_2=0.999, early_stopping=False, epsilon=1e-08,\n",
       "             hidden_layer_sizes=(10,), learning_rate='constant',\n",
       "             learning_rate_init=0.001, max_iter=500, momentum=0.9,\n",
       "             n_iter_no_change=10, nesterovs_momentum=True, power_t=0.5,\n",
       "             random_state=None, shuffle=True, solver='adam', tol=0.0001,\n",
       "             validation_fraction=0.1, verbose=False, warm_start=False)"
      ]
     },
     "execution_count": 29,
     "metadata": {},
     "output_type": "execute_result"
    }
   ],
   "source": [
    "image_semantic_nn.fit(train_image, train_semantic)"
   ]
  },
  {
   "cell_type": "code",
   "execution_count": 30,
   "metadata": {
    "scrolled": true
   },
   "outputs": [
    {
     "name": "stdout",
     "output_type": "stream",
     "text": [
      "{'RMSE': 0.16850465536117554, 'R2': -0.674681103926215}\n"
     ]
    }
   ],
   "source": [
    "train_stats, train_semantic_pred = experiment.run_experiment(image_semantic_nn, train_image, train_semantic)"
   ]
  },
  {
   "cell_type": "code",
   "execution_count": 31,
   "metadata": {
    "scrolled": false
   },
   "outputs": [
    {
     "name": "stdout",
     "output_type": "stream",
     "text": [
      "{'RMSE': 0.17422597110271454, 'R2': -0.46043920166494035}\n"
     ]
    }
   ],
   "source": [
    "val_stats, val_semantic_pred = experiment.run_experiment(image_semantic_nn, val_image, val_semantic)"
   ]
  },
  {
   "cell_type": "markdown",
   "metadata": {},
   "source": [
    "#### Example"
   ]
  },
  {
   "cell_type": "code",
   "execution_count": null,
   "metadata": {},
   "outputs": [],
   "source": []
  }
 ],
 "metadata": {
  "kernelspec": {
   "display_name": "Python 3",
   "language": "python",
   "name": "python3"
  },
  "language_info": {
   "codemirror_mode": {
    "name": "ipython",
    "version": 3
   },
   "file_extension": ".py",
   "mimetype": "text/x-python",
   "name": "python",
   "nbconvert_exporter": "python",
   "pygments_lexer": "ipython3",
   "version": "3.6.6"
  }
 },
 "nbformat": 4,
 "nbformat_minor": 2
}
