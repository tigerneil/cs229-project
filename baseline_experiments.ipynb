{
 "cells": [
  {
   "cell_type": "code",
   "execution_count": 94,
   "metadata": {},
   "outputs": [],
   "source": [
    "from importlib import reload\n",
    "import sys\n",
    "import util\n",
    "data = util.FontData\n",
    "FontDataset = util.FontDataset\n",
    "import experiment\n",
    "reload(experiment)\n",
    "from sklearn import linear_model, neural_network"
   ]
  },
  {
   "cell_type": "code",
   "execution_count": 95,
   "metadata": {
    "scrolled": false
   },
   "outputs": [
    {
     "name": "stdout",
     "output_type": "stream",
     "text": [
      "Loading embeddings...done\n",
      "Loading typographic + semantic vectors...done\n",
      "Loading images...done\n",
      "Loading glyphs...done\n"
     ]
    }
   ],
   "source": [
    "data.load()"
   ]
  },
  {
   "cell_type": "code",
   "execution_count": 96,
   "metadata": {},
   "outputs": [],
   "source": [
    "train_dataset = FontDataset(data, 'train')\n",
    "val_dataset = FontDataset(data, 'val')"
   ]
  },
  {
   "cell_type": "code",
   "execution_count": 97,
   "metadata": {},
   "outputs": [],
   "source": [
    "train_typographic = data.get_all_typographic('train')\n",
    "val_typographic = data.get_all_typographic('val')"
   ]
  },
  {
   "cell_type": "code",
   "execution_count": 98,
   "metadata": {},
   "outputs": [],
   "source": [
    "train_image = data.get_all_image('train')\n",
    "train_image = train_image.reshape(train_image.shape[0], -1)\n",
    "val_image = data.get_all_image('val')\n",
    "val_image = val_image.reshape(val_image.shape[0], -1)"
   ]
  },
  {
   "cell_type": "code",
   "execution_count": 99,
   "metadata": {},
   "outputs": [],
   "source": [
    "train_semantic = data.get_all_semantic('train')\n",
    "val_semantic = data.get_all_semantic('val')"
   ]
  },
  {
   "cell_type": "markdown",
   "metadata": {},
   "source": [
    "### Linear Regression: Image -> Typographic"
   ]
  },
  {
   "cell_type": "code",
   "execution_count": 67,
   "metadata": {},
   "outputs": [],
   "source": [
    "image_typographic_reg = linear_model.LinearRegression()"
   ]
  },
  {
   "cell_type": "code",
   "execution_count": 68,
   "metadata": {},
   "outputs": [
    {
     "data": {
      "text/plain": [
       "LinearRegression(copy_X=True, fit_intercept=True, n_jobs=None, normalize=False)"
      ]
     },
     "execution_count": 68,
     "metadata": {},
     "output_type": "execute_result"
    }
   ],
   "source": [
    "image_typographic_reg.fit(train_image, train_typographic)"
   ]
  },
  {
   "cell_type": "code",
   "execution_count": 69,
   "metadata": {},
   "outputs": [
    {
     "name": "stdout",
     "output_type": "stream",
     "text": [
      "{'RMSE': 0.1633429229259491, 'R2': 0.9738025577307982}\n"
     ]
    }
   ],
   "source": [
    "train_stats, train_typographic_pred = experiment.run_experiment(image_typographic_reg, train_image, train_typographic)"
   ]
  },
  {
   "cell_type": "code",
   "execution_count": 70,
   "metadata": {
    "scrolled": true
   },
   "outputs": [
    {
     "name": "stdout",
     "output_type": "stream",
     "text": [
      "{'RMSE': 34.59562683105469, 'R2': -1202.1584194240093}\n"
     ]
    }
   ],
   "source": [
    "val_stats, val_typographic_pred = experiment.run_experiment(image_typographic_reg, val_image, val_typographic)"
   ]
  },
  {
   "cell_type": "markdown",
   "metadata": {},
   "source": [
    "### Linear Regression: Typographic -> Semantic"
   ]
  },
  {
   "cell_type": "code",
   "execution_count": 71,
   "metadata": {},
   "outputs": [],
   "source": [
    "typographic_semantic_reg = linear_model.LinearRegression()"
   ]
  },
  {
   "cell_type": "code",
   "execution_count": 72,
   "metadata": {},
   "outputs": [
    {
     "data": {
      "text/plain": [
       "LinearRegression(copy_X=True, fit_intercept=True, n_jobs=None, normalize=False)"
      ]
     },
     "execution_count": 72,
     "metadata": {},
     "output_type": "execute_result"
    }
   ],
   "source": [
    "typographic_semantic_reg.fit(train_typographic, train_semantic)"
   ]
  },
  {
   "cell_type": "code",
   "execution_count": 73,
   "metadata": {},
   "outputs": [
    {
     "name": "stdout",
     "output_type": "stream",
     "text": [
      "{'RMSE': 0.7227101922035217, 'R2': 0.46196948404285115}\n"
     ]
    }
   ],
   "source": [
    "train_stats, train_semantic_pred = experiment.run_experiment(typographic_semantic_reg, train_typographic, train_semantic)"
   ]
  },
  {
   "cell_type": "code",
   "execution_count": 74,
   "metadata": {
    "scrolled": true
   },
   "outputs": [
    {
     "name": "stdout",
     "output_type": "stream",
     "text": [
      "{'RMSE': 0.7563706040382385, 'R2': 0.4712526857284771}\n"
     ]
    }
   ],
   "source": [
    "val_stats, val_semantic_pred = experiment.run_experiment(typographic_semantic_reg, val_typographic, val_semantic)"
   ]
  },
  {
   "cell_type": "markdown",
   "metadata": {},
   "source": [
    "### Linear Regressions: Image -> Typographic -> Semantic"
   ]
  },
  {
   "cell_type": "code",
   "execution_count": 75,
   "metadata": {},
   "outputs": [],
   "source": [
    "class SequentialLinearRegression:\n",
    "    def __init__(self, reg1, reg2):\n",
    "        self.reg1 = reg1\n",
    "        self.reg2 = reg2\n",
    "    def predict(self, X):\n",
    "        return self.reg2.predict(self.reg1.predict(X))\n",
    "\n",
    "image_typographic_semantic_reg = SequentialLinearRegression(image_typographic_reg, typographic_semantic_reg)"
   ]
  },
  {
   "cell_type": "code",
   "execution_count": 76,
   "metadata": {},
   "outputs": [
    {
     "name": "stdout",
     "output_type": "stream",
     "text": [
      "{'RMSE': 0.73167884349823, 'R2': 0.4485337055649404}\n"
     ]
    }
   ],
   "source": [
    "train_stats, train_semantic_pred = experiment.run_experiment(image_typographic_semantic_reg, train_image, train_semantic)"
   ]
  },
  {
   "cell_type": "code",
   "execution_count": 77,
   "metadata": {
    "scrolled": true
   },
   "outputs": [
    {
     "name": "stdout",
     "output_type": "stream",
     "text": [
      "{'RMSE': 24.477190017700195, 'R2': -564.7180186866788}\n"
     ]
    }
   ],
   "source": [
    "val_stats, val_semantic_pred = experiment.run_experiment(image_typographic_semantic_reg, val_image, val_semantic)"
   ]
  },
  {
   "cell_type": "markdown",
   "metadata": {},
   "source": [
    "### Linear Regression: Image -> Semantic"
   ]
  },
  {
   "cell_type": "code",
   "execution_count": 78,
   "metadata": {},
   "outputs": [],
   "source": [
    "image_semantic_reg = linear_model.LinearRegression()"
   ]
  },
  {
   "cell_type": "code",
   "execution_count": 79,
   "metadata": {},
   "outputs": [
    {
     "data": {
      "text/plain": [
       "LinearRegression(copy_X=True, fit_intercept=True, n_jobs=None, normalize=False)"
      ]
     },
     "execution_count": 79,
     "metadata": {},
     "output_type": "execute_result"
    }
   ],
   "source": [
    "image_semantic_reg.fit(train_image, train_semantic)"
   ]
  },
  {
   "cell_type": "code",
   "execution_count": 80,
   "metadata": {
    "scrolled": true
   },
   "outputs": [
    {
     "name": "stdout",
     "output_type": "stream",
     "text": [
      "{'RMSE': 0.16490739583969116, 'R2': 0.9719962841065443}\n"
     ]
    }
   ],
   "source": [
    "train_stats, train_semantic_pred = experiment.run_experiment(image_semantic_reg, train_image, train_semantic)"
   ]
  },
  {
   "cell_type": "code",
   "execution_count": 81,
   "metadata": {
    "scrolled": false
   },
   "outputs": [
    {
     "name": "stdout",
     "output_type": "stream",
     "text": [
      "{'RMSE': 51.0186767578125, 'R2': -2412.3122592328114}\n"
     ]
    }
   ],
   "source": [
    "val_stats, val_semantic_pred = experiment.run_experiment(image_semantic_reg, val_image, val_semantic)"
   ]
  },
  {
   "cell_type": "markdown",
   "metadata": {},
   "source": [
    "### Multilayer Perceptron: Image -> Semantic"
   ]
  },
  {
   "cell_type": "code",
   "execution_count": 82,
   "metadata": {},
   "outputs": [],
   "source": [
    "image_semantic_nn = neural_network.MLPRegressor(hidden_layer_sizes=(10,))"
   ]
  },
  {
   "cell_type": "code",
   "execution_count": 83,
   "metadata": {},
   "outputs": [
    {
     "data": {
      "text/plain": [
       "MLPRegressor(activation='relu', alpha=0.0001, batch_size='auto', beta_1=0.9,\n",
       "             beta_2=0.999, early_stopping=False, epsilon=1e-08,\n",
       "             hidden_layer_sizes=(10,), learning_rate='constant',\n",
       "             learning_rate_init=0.001, max_iter=200, momentum=0.9,\n",
       "             n_iter_no_change=10, nesterovs_momentum=True, power_t=0.5,\n",
       "             random_state=None, shuffle=True, solver='adam', tol=0.0001,\n",
       "             validation_fraction=0.1, verbose=False, warm_start=False)"
      ]
     },
     "execution_count": 83,
     "metadata": {},
     "output_type": "execute_result"
    }
   ],
   "source": [
    "image_semantic_nn.fit(train_image, train_semantic)"
   ]
  },
  {
   "cell_type": "code",
   "execution_count": 84,
   "metadata": {
    "scrolled": true
   },
   "outputs": [
    {
     "name": "stdout",
     "output_type": "stream",
     "text": [
      "{'RMSE': 0.9878478050231934, 'R2': -0.005324161157084705}\n"
     ]
    }
   ],
   "source": [
    "train_stats, train_semantic_pred = experiment.run_experiment(image_semantic_nn, train_image, train_semantic)"
   ]
  },
  {
   "cell_type": "code",
   "execution_count": 85,
   "metadata": {
    "scrolled": false
   },
   "outputs": [
    {
     "name": "stdout",
     "output_type": "stream",
     "text": [
      "{'RMSE': 1.0415359735488892, 'R2': -0.010125162262854513}\n"
     ]
    }
   ],
   "source": [
    "val_stats, val_semantic_pred = experiment.run_experiment(image_semantic_nn, val_image, val_semantic)"
   ]
  },
  {
   "cell_type": "markdown",
   "metadata": {},
   "source": [
    "#### Example"
   ]
  },
  {
   "cell_type": "code",
   "execution_count": 86,
   "metadata": {},
   "outputs": [
    {
     "data": {
      "text/plain": [
       "tensor([ 0.0476, -0.0427, -0.0028,  0.0009,  0.0497, -0.0004,  0.1686,  0.0904,\n",
       "        -0.0775,  0.0721, -0.0277, -0.0340,  0.0167,  0.0008,  0.0316,  0.0400,\n",
       "         0.0178, -0.0100, -0.1079, -0.0355,  0.0734,  0.0722, -0.1172,  0.0203,\n",
       "        -0.1287, -0.0279, -0.0704, -0.1434, -0.1575, -0.0008,  0.0089])"
      ]
     },
     "execution_count": 86,
     "metadata": {},
     "output_type": "execute_result"
    }
   ],
   "source": [
    "val_semantic_pred[0]"
   ]
  },
  {
   "cell_type": "code",
   "execution_count": 87,
   "metadata": {
    "scrolled": true
   },
   "outputs": [
    {
     "data": {
      "text/plain": [
       "array([ 1.38946555,  2.07786678,  0.53825864,  1.0735803 ,  0.94702023,\n",
       "       -0.73411685, -0.29449533,  1.74432709,  1.74957114,  2.14193563,\n",
       "        2.34482157,  2.12647931,  1.96046724, -1.6338738 , -0.44899942,\n",
       "        1.59132233, -0.04400323,  1.32978186,  2.119893  , -1.84771722,\n",
       "        2.08848176,  2.42672959,  1.56701499, -0.50614695,  1.88594378,\n",
       "        0.82936429, -1.63937803,  1.45262655,  1.31072242, -0.3115636 ,\n",
       "       -2.23565785])"
      ]
     },
     "execution_count": 87,
     "metadata": {},
     "output_type": "execute_result"
    }
   ],
   "source": [
    "data.get_semantic(data.get_name(0, \"val\"))"
   ]
  }
 ],
 "metadata": {
  "kernelspec": {
   "display_name": "Python 3",
   "language": "python",
   "name": "python3"
  },
  "language_info": {
   "codemirror_mode": {
    "name": "ipython",
    "version": 3
   },
   "file_extension": ".py",
   "mimetype": "text/x-python",
   "name": "python",
   "nbconvert_exporter": "python",
   "pygments_lexer": "ipython3",
   "version": "3.6.6"
  }
 },
 "nbformat": 4,
 "nbformat_minor": 2
}
