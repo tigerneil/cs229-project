{
 "cells": [
  {
   "cell_type": "code",
   "execution_count": 149,
   "metadata": {},
   "outputs": [],
   "source": [
    "from importlib import reload\n",
    "import sys\n",
    "import util\n",
    "reload(util)\n",
    "data = util.FontData\n",
    "FontDataset = util.FontDataset\n",
    "import experiment\n",
    "reload(experiment)\n",
    "from sklearn import linear_model, neural_network"
   ]
  },
  {
   "cell_type": "code",
   "execution_count": 150,
   "metadata": {
    "scrolled": false
   },
   "outputs": [
    {
     "name": "stdout",
     "output_type": "stream",
     "text": [
      "Loading embeddings...done\n",
      "Loading typographic + semantic vectors...done\n",
      "Loading images...done\n",
      "Loading glyphs...done\n",
      "Loading SVGs...done\n"
     ]
    }
   ],
   "source": [
    "data.load()"
   ]
  },
  {
   "cell_type": "code",
   "execution_count": 151,
   "metadata": {},
   "outputs": [],
   "source": [
    "train_dataset = FontDataset(data, 'train')\n",
    "val_dataset = FontDataset(data, 'val')"
   ]
  },
  {
   "cell_type": "code",
   "execution_count": 152,
   "metadata": {},
   "outputs": [],
   "source": [
    "train_typographic = data.get_all_typographic('train')\n",
    "val_typographic = data.get_all_typographic('val')"
   ]
  },
  {
   "cell_type": "code",
   "execution_count": 153,
   "metadata": {},
   "outputs": [],
   "source": [
    "train_image = data.get_all_image('train')\n",
    "train_image = train_image.reshape(train_image.shape[0], -1)\n",
    "val_image = data.get_all_image('val')\n",
    "val_image = val_image.reshape(val_image.shape[0], -1)"
   ]
  },
  {
   "cell_type": "code",
   "execution_count": 154,
   "metadata": {},
   "outputs": [],
   "source": [
    "train_semantic = data.get_all_semantic('train')\n",
    "val_semantic = data.get_all_semantic('val')"
   ]
  },
  {
   "cell_type": "markdown",
   "metadata": {},
   "source": [
    "### Linear Regression: Image -> Typographic"
   ]
  },
  {
   "cell_type": "code",
   "execution_count": 155,
   "metadata": {},
   "outputs": [],
   "source": [
    "image_typographic_reg = linear_model.LinearRegression()"
   ]
  },
  {
   "cell_type": "code",
   "execution_count": 156,
   "metadata": {},
   "outputs": [
    {
     "data": {
      "text/plain": [
       "LinearRegression(copy_X=True, fit_intercept=True, n_jobs=None, normalize=False)"
      ]
     },
     "execution_count": 156,
     "metadata": {},
     "output_type": "execute_result"
    }
   ],
   "source": [
    "image_typographic_reg.fit(train_image, train_typographic)"
   ]
  },
  {
   "cell_type": "code",
   "execution_count": 157,
   "metadata": {},
   "outputs": [
    {
     "name": "stdout",
     "output_type": "stream",
     "text": [
      "{'RMSE': 1.3667070561496075e-05, 'R2': 0.9999999998025613}\n"
     ]
    }
   ],
   "source": [
    "train_stats, train_typographic_pred = experiment.run_experiment(image_typographic_reg, train_image, train_typographic)"
   ]
  },
  {
   "cell_type": "code",
   "execution_count": 158,
   "metadata": {
    "scrolled": true
   },
   "outputs": [
    {
     "name": "stdout",
     "output_type": "stream",
     "text": [
      "{'RMSE': 1.3457238674163818, 'R2': -0.6625254045401793}\n"
     ]
    }
   ],
   "source": [
    "val_stats, val_typographic_pred = experiment.run_experiment(image_typographic_reg, val_image, val_typographic)"
   ]
  },
  {
   "cell_type": "markdown",
   "metadata": {},
   "source": [
    "### Linear Regression: Typographic -> Semantic"
   ]
  },
  {
   "cell_type": "code",
   "execution_count": 159,
   "metadata": {},
   "outputs": [],
   "source": [
    "typographic_semantic_reg = linear_model.LinearRegression()"
   ]
  },
  {
   "cell_type": "code",
   "execution_count": 160,
   "metadata": {},
   "outputs": [
    {
     "data": {
      "text/plain": [
       "LinearRegression(copy_X=True, fit_intercept=True, n_jobs=None, normalize=False)"
      ]
     },
     "execution_count": 160,
     "metadata": {},
     "output_type": "execute_result"
    }
   ],
   "source": [
    "typographic_semantic_reg.fit(train_typographic, train_semantic)"
   ]
  },
  {
   "cell_type": "code",
   "execution_count": 161,
   "metadata": {},
   "outputs": [
    {
     "name": "stdout",
     "output_type": "stream",
     "text": [
      "{'RMSE': 0.6425207853317261, 'R2': 0.5791966258956402}\n"
     ]
    }
   ],
   "source": [
    "train_stats, train_semantic_pred = experiment.run_experiment(typographic_semantic_reg, train_typographic, train_semantic)"
   ]
  },
  {
   "cell_type": "code",
   "execution_count": 162,
   "metadata": {
    "scrolled": true
   },
   "outputs": [
    {
     "name": "stdout",
     "output_type": "stream",
     "text": [
      "{'RMSE': 0.652705729007721, 'R2': 0.5643953306184701}\n"
     ]
    }
   ],
   "source": [
    "val_stats, val_semantic_pred = experiment.run_experiment(typographic_semantic_reg, val_typographic, val_semantic)"
   ]
  },
  {
   "cell_type": "markdown",
   "metadata": {},
   "source": [
    "### Linear Regressions: Image -> Typographic -> Semantic"
   ]
  },
  {
   "cell_type": "code",
   "execution_count": 163,
   "metadata": {},
   "outputs": [],
   "source": [
    "class SequentialLinearRegression:\n",
    "    def __init__(self, reg1, reg2):\n",
    "        self.reg1 = reg1\n",
    "        self.reg2 = reg2\n",
    "    def predict(self, X):\n",
    "        return self.reg2.predict(self.reg1.predict(X))\n",
    "\n",
    "image_typographic_semantic_reg = SequentialLinearRegression(image_typographic_reg, typographic_semantic_reg)"
   ]
  },
  {
   "cell_type": "code",
   "execution_count": 164,
   "metadata": {},
   "outputs": [
    {
     "name": "stdout",
     "output_type": "stream",
     "text": [
      "{'RMSE': 0.6425206065177917, 'R2': 0.5791968681664224}\n"
     ]
    }
   ],
   "source": [
    "train_stats, train_semantic_pred = experiment.run_experiment(image_typographic_semantic_reg, train_image, train_semantic)"
   ]
  },
  {
   "cell_type": "code",
   "execution_count": 165,
   "metadata": {
    "scrolled": true
   },
   "outputs": [
    {
     "name": "stdout",
     "output_type": "stream",
     "text": [
      "{'RMSE': 1.2455190420150757, 'R2': -0.617107781671052}\n"
     ]
    }
   ],
   "source": [
    "val_stats, val_semantic_pred = experiment.run_experiment(image_typographic_semantic_reg, val_image, val_semantic)"
   ]
  },
  {
   "cell_type": "markdown",
   "metadata": {},
   "source": [
    "### Linear Regression: Image -> Semantic"
   ]
  },
  {
   "cell_type": "code",
   "execution_count": 166,
   "metadata": {},
   "outputs": [],
   "source": [
    "image_semantic_reg = linear_model.LinearRegression()"
   ]
  },
  {
   "cell_type": "code",
   "execution_count": 167,
   "metadata": {},
   "outputs": [
    {
     "data": {
      "text/plain": [
       "LinearRegression(copy_X=True, fit_intercept=True, n_jobs=None, normalize=False)"
      ]
     },
     "execution_count": 167,
     "metadata": {},
     "output_type": "execute_result"
    }
   ],
   "source": [
    "image_semantic_reg.fit(train_image, train_semantic)"
   ]
  },
  {
   "cell_type": "code",
   "execution_count": 168,
   "metadata": {
    "scrolled": true
   },
   "outputs": [
    {
     "name": "stdout",
     "output_type": "stream",
     "text": [
      "{'RMSE': 1.5096046809048858e-05, 'R2': 0.9999999997676309}\n"
     ]
    }
   ],
   "source": [
    "train_stats, train_semantic_pred = experiment.run_experiment(image_semantic_reg, train_image, train_semantic)"
   ]
  },
  {
   "cell_type": "code",
   "execution_count": 169,
   "metadata": {
    "scrolled": false
   },
   "outputs": [
    {
     "name": "stdout",
     "output_type": "stream",
     "text": [
      "{'RMSE': 1.4704996347427368, 'R2': -1.250469831432338}\n"
     ]
    }
   ],
   "source": [
    "val_stats, val_semantic_pred = experiment.run_experiment(image_semantic_reg, val_image, val_semantic)"
   ]
  },
  {
   "cell_type": "markdown",
   "metadata": {},
   "source": [
    "### Multilayer Perceptron: Image -> Semantic"
   ]
  },
  {
   "cell_type": "code",
   "execution_count": 170,
   "metadata": {},
   "outputs": [],
   "source": [
    "image_semantic_nn = neural_network.MLPRegressor(hidden_layer_sizes=(10,))"
   ]
  },
  {
   "cell_type": "code",
   "execution_count": 171,
   "metadata": {},
   "outputs": [
    {
     "data": {
      "text/plain": [
       "MLPRegressor(activation='relu', alpha=0.0001, batch_size='auto', beta_1=0.9,\n",
       "             beta_2=0.999, early_stopping=False, epsilon=1e-08,\n",
       "             hidden_layer_sizes=(10,), learning_rate='constant',\n",
       "             learning_rate_init=0.001, max_iter=200, momentum=0.9,\n",
       "             n_iter_no_change=10, nesterovs_momentum=True, power_t=0.5,\n",
       "             random_state=None, shuffle=True, solver='adam', tol=0.0001,\n",
       "             validation_fraction=0.1, verbose=False, warm_start=False)"
      ]
     },
     "execution_count": 171,
     "metadata": {},
     "output_type": "execute_result"
    }
   ],
   "source": [
    "image_semantic_nn.fit(train_image, train_semantic)"
   ]
  },
  {
   "cell_type": "code",
   "execution_count": 172,
   "metadata": {
    "scrolled": true
   },
   "outputs": [
    {
     "name": "stdout",
     "output_type": "stream",
     "text": [
      "{'RMSE': 0.9919090270996094, 'R2': -0.0038887246173080624}\n"
     ]
    }
   ],
   "source": [
    "train_stats, train_semantic_pred = experiment.run_experiment(image_semantic_nn, train_image, train_semantic)"
   ]
  },
  {
   "cell_type": "code",
   "execution_count": 173,
   "metadata": {
    "scrolled": false
   },
   "outputs": [
    {
     "name": "stdout",
     "output_type": "stream",
     "text": [
      "{'RMSE': 0.9884147047996521, 'R2': -0.004764330244239873}\n"
     ]
    }
   ],
   "source": [
    "val_stats, val_semantic_pred = experiment.run_experiment(image_semantic_nn, val_image, val_semantic)"
   ]
  },
  {
   "cell_type": "markdown",
   "metadata": {},
   "source": [
    "#### Example"
   ]
  },
  {
   "cell_type": "code",
   "execution_count": 174,
   "metadata": {},
   "outputs": [
    {
     "data": {
      "text/plain": [
       "tensor([ 0.0473,  0.0245, -0.0761,  0.0117, -0.1122,  0.0179,  0.0777,  0.0049,\n",
       "         0.1843, -0.0787, -0.0834,  0.0243,  0.0282, -0.0360, -0.0476,  0.0211,\n",
       "        -0.0109, -0.0849,  0.0214, -0.0614,  0.0274,  0.0110,  0.1281, -0.0314,\n",
       "        -0.0065, -0.1098,  0.0356,  0.0109, -0.0034, -0.0432, -0.0155])"
      ]
     },
     "execution_count": 174,
     "metadata": {},
     "output_type": "execute_result"
    }
   ],
   "source": [
    "val_semantic_pred[0]"
   ]
  },
  {
   "cell_type": "code",
   "execution_count": 175,
   "metadata": {
    "scrolled": true
   },
   "outputs": [
    {
     "data": {
      "text/plain": [
       "array([-0.29138137, -0.16184933, -0.14702909, -0.40446154,  0.43245715,\n",
       "        0.5095358 , -0.62126273, -0.99704623, -0.28945408, -0.07533271,\n",
       "       -0.63554327, -0.19085355,  0.09324976, -0.46094253,  0.13544815,\n",
       "       -0.91632764, -0.45007817, -0.93885684, -0.88615512, -0.3845307 ,\n",
       "        0.30207304, -0.16686988, -0.25102446,  0.14758578, -0.66951492,\n",
       "       -0.74703117,  0.53204622,  0.61595246, -0.65247733,  0.21868042,\n",
       "        0.17455805])"
      ]
     },
     "execution_count": 175,
     "metadata": {},
     "output_type": "execute_result"
    }
   ],
   "source": [
    "data.get_semantic(data.get_name(0, \"val\"))"
   ]
  }
 ],
 "metadata": {
  "kernelspec": {
   "display_name": "Python 3",
   "language": "python",
   "name": "python3"
  },
  "language_info": {
   "codemirror_mode": {
    "name": "ipython",
    "version": 3
   },
   "file_extension": ".py",
   "mimetype": "text/x-python",
   "name": "python",
   "nbconvert_exporter": "python",
   "pygments_lexer": "ipython3",
   "version": "3.6.6"
  }
 },
 "nbformat": 4,
 "nbformat_minor": 2
}
