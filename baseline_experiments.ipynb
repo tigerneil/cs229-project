{
 "cells": [
  {
   "cell_type": "code",
   "execution_count": 1,
   "metadata": {},
   "outputs": [],
   "source": [
    "from importlib import reload\n",
    "import sys\n",
    "import util\n",
    "reload(util)\n",
    "data = util.FontData\n",
    "FontDataset = util.FontDataset\n",
    "import experiment\n",
    "reload(experiment)\n",
    "from sklearn import linear_model, neural_network"
   ]
  },
  {
   "cell_type": "code",
   "execution_count": 2,
   "metadata": {
    "scrolled": false
   },
   "outputs": [
    {
     "name": "stdout",
     "output_type": "stream",
     "text": [
      "Loading embeddings...done\n",
      "Loading typographic + semantic vectors...done\n",
      "Loading images...done\n",
      "Loading glyphs...done\n",
      "Loading SVGs...done\n"
     ]
    }
   ],
   "source": [
    "data.load(knn_path=\"data/knn_dataset_weighted_kulah_cd.csv\")"
   ]
  },
  {
   "cell_type": "code",
   "execution_count": 3,
   "metadata": {},
   "outputs": [],
   "source": [
    "train_dataset = FontDataset(data, 'train')\n",
    "val_dataset = FontDataset(data, 'val')"
   ]
  },
  {
   "cell_type": "code",
   "execution_count": 4,
   "metadata": {},
   "outputs": [],
   "source": [
    "train_typographic = data.get_all_typographic('train')\n",
    "val_typographic = data.get_all_typographic('val')"
   ]
  },
  {
   "cell_type": "code",
   "execution_count": 5,
   "metadata": {},
   "outputs": [],
   "source": [
    "train_image = data.get_all_image('train')\n",
    "train_image = train_image.reshape(train_image.shape[0], -1)\n",
    "val_image = data.get_all_image('val')\n",
    "val_image = val_image.reshape(val_image.shape[0], -1)"
   ]
  },
  {
   "cell_type": "code",
   "execution_count": 6,
   "metadata": {},
   "outputs": [],
   "source": [
    "train_semantic = data.get_all_semantic('train')\n",
    "val_semantic = data.get_all_semantic('val')"
   ]
  },
  {
   "cell_type": "markdown",
   "metadata": {},
   "source": [
    "### Linear Regression: Image -> Typographic"
   ]
  },
  {
   "cell_type": "code",
   "execution_count": 7,
   "metadata": {},
   "outputs": [],
   "source": [
    "image_typographic_reg = linear_model.LinearRegression()"
   ]
  },
  {
   "cell_type": "code",
   "execution_count": 8,
   "metadata": {},
   "outputs": [
    {
     "data": {
      "text/plain": [
       "LinearRegression(copy_X=True, fit_intercept=True, n_jobs=None, normalize=False)"
      ]
     },
     "execution_count": 8,
     "metadata": {},
     "output_type": "execute_result"
    }
   ],
   "source": [
    "image_typographic_reg.fit(train_image, train_typographic)"
   ]
  },
  {
   "cell_type": "code",
   "execution_count": 9,
   "metadata": {
    "scrolled": true
   },
   "outputs": [
    {
     "name": "stdout",
     "output_type": "stream",
     "text": [
      "{'RMSE': 1.6190169844776392e-06, 'R2': 0.9999999999555459}\n"
     ]
    }
   ],
   "source": [
    "train_stats, train_typographic_pred = experiment.run_experiment(image_typographic_reg, train_image, train_typographic)"
   ]
  },
  {
   "cell_type": "code",
   "execution_count": 27,
   "metadata": {},
   "outputs": [
    {
     "data": {
      "text/plain": [
       "41685"
      ]
     },
     "execution_count": 27,
     "metadata": {},
     "output_type": "execute_result"
    }
   ],
   "source": [
    "import numpy as np\n",
    "np.sum(train_image[0] == train_image[1])"
   ]
  },
  {
   "cell_type": "code",
   "execution_count": 10,
   "metadata": {},
   "outputs": [
    {
     "data": {
      "text/plain": [
       "(1303, 6)"
      ]
     },
     "execution_count": 10,
     "metadata": {},
     "output_type": "execute_result"
    }
   ],
   "source": [
    "train_typographic.shape"
   ]
  },
  {
   "cell_type": "code",
   "execution_count": 11,
   "metadata": {
    "scrolled": true
   },
   "outputs": [
    {
     "name": "stdout",
     "output_type": "stream",
     "text": [
      "{'RMSE': 0.14403529465198517, 'R2': 0.5955860215197114}\n"
     ]
    }
   ],
   "source": [
    "val_stats, val_typographic_pred = experiment.run_experiment(image_typographic_reg, val_image, val_typographic)"
   ]
  },
  {
   "cell_type": "markdown",
   "metadata": {},
   "source": [
    "### Linear Regression: Typographic -> Semantic"
   ]
  },
  {
   "cell_type": "code",
   "execution_count": 12,
   "metadata": {},
   "outputs": [],
   "source": [
    "typographic_semantic_reg = linear_model.LinearRegression()"
   ]
  },
  {
   "cell_type": "code",
   "execution_count": 13,
   "metadata": {},
   "outputs": [
    {
     "data": {
      "text/plain": [
       "LinearRegression(copy_X=True, fit_intercept=True, n_jobs=None, normalize=False)"
      ]
     },
     "execution_count": 13,
     "metadata": {},
     "output_type": "execute_result"
    }
   ],
   "source": [
    "typographic_semantic_reg.fit(train_typographic, train_semantic)"
   ]
  },
  {
   "cell_type": "code",
   "execution_count": 14,
   "metadata": {},
   "outputs": [
    {
     "name": "stdout",
     "output_type": "stream",
     "text": [
      "{'RMSE': 0.10423894971609116, 'R2': 0.5348465153332079}\n"
     ]
    }
   ],
   "source": [
    "train_stats, train_semantic_pred = experiment.run_experiment(typographic_semantic_reg, train_typographic, train_semantic)"
   ]
  },
  {
   "cell_type": "code",
   "execution_count": 15,
   "metadata": {
    "scrolled": true
   },
   "outputs": [
    {
     "name": "stdout",
     "output_type": "stream",
     "text": [
      "{'RMSE': 0.10544156283140182, 'R2': 0.551798933862579}\n"
     ]
    }
   ],
   "source": [
    "val_stats, val_semantic_pred = experiment.run_experiment(typographic_semantic_reg, val_typographic, val_semantic)"
   ]
  },
  {
   "cell_type": "markdown",
   "metadata": {},
   "source": [
    "### Linear Regressions: Image -> Typographic -> Semantic"
   ]
  },
  {
   "cell_type": "code",
   "execution_count": 16,
   "metadata": {},
   "outputs": [],
   "source": [
    "class SequentialLinearRegression:\n",
    "    def __init__(self, reg1, reg2):\n",
    "        self.reg1 = reg1\n",
    "        self.reg2 = reg2\n",
    "    def predict(self, X):\n",
    "        return self.reg2.predict(self.reg1.predict(X))\n",
    "\n",
    "image_typographic_semantic_reg = SequentialLinearRegression(image_typographic_reg, typographic_semantic_reg)"
   ]
  },
  {
   "cell_type": "code",
   "execution_count": 17,
   "metadata": {},
   "outputs": [
    {
     "data": {
      "text/plain": [
       "array([[0.3937207 , 0.26580928, 0.44323922, ..., 0.51104709, 0.61849329,\n",
       "        0.53933688],\n",
       "       [0.44119959, 0.36253881, 0.30584526, ..., 0.69577073, 0.50729707,\n",
       "        0.52776776],\n",
       "       [0.24112255, 0.08107704, 0.23196869, ..., 0.63499231, 0.48026325,\n",
       "        0.50188639],\n",
       "       ...,\n",
       "       [0.76294362, 0.69486117, 0.64503608, ..., 0.41120683, 0.86035076,\n",
       "        0.45234435],\n",
       "       [0.74068568, 0.59511034, 0.41721934, ..., 0.63478506, 0.46328393,\n",
       "        0.32634286],\n",
       "       [0.72045128, 0.83274388, 0.5092478 , ..., 0.83010049, 0.56611526,\n",
       "        0.24808567]])"
      ]
     },
     "execution_count": 17,
     "metadata": {},
     "output_type": "execute_result"
    }
   ],
   "source": [
    "train_semantic"
   ]
  },
  {
   "cell_type": "code",
   "execution_count": 18,
   "metadata": {},
   "outputs": [
    {
     "name": "stdout",
     "output_type": "stream",
     "text": [
      "{'RMSE': 0.10423890501260757, 'R2': 0.5348468170071726}\n"
     ]
    }
   ],
   "source": [
    "train_stats, train_semantic_pred = experiment.run_experiment(image_typographic_semantic_reg, train_image, train_semantic)"
   ]
  },
  {
   "cell_type": "code",
   "execution_count": 19,
   "metadata": {
    "scrolled": true
   },
   "outputs": [
    {
     "name": "stdout",
     "output_type": "stream",
     "text": [
      "{'RMSE': 0.12145368754863739, 'R2': 0.4203832187871161}\n"
     ]
    }
   ],
   "source": [
    "val_stats, val_semantic_pred = experiment.run_experiment(image_typographic_semantic_reg, val_image, val_semantic)"
   ]
  },
  {
   "cell_type": "markdown",
   "metadata": {},
   "source": [
    "### Linear Regression: Image -> Semantic"
   ]
  },
  {
   "cell_type": "code",
   "execution_count": 20,
   "metadata": {},
   "outputs": [],
   "source": [
    "image_semantic_reg = linear_model.LinearRegression()"
   ]
  },
  {
   "cell_type": "code",
   "execution_count": 21,
   "metadata": {},
   "outputs": [
    {
     "data": {
      "text/plain": [
       "LinearRegression(copy_X=True, fit_intercept=True, n_jobs=None, normalize=False)"
      ]
     },
     "execution_count": 21,
     "metadata": {},
     "output_type": "execute_result"
    }
   ],
   "source": [
    "image_semantic_reg.fit(train_image, train_semantic)"
   ]
  },
  {
   "cell_type": "code",
   "execution_count": 22,
   "metadata": {
    "scrolled": true
   },
   "outputs": [
    {
     "name": "stdout",
     "output_type": "stream",
     "text": [
      "{'RMSE': 1.4079495258556562e-06, 'R2': 0.9999999999119905}\n"
     ]
    }
   ],
   "source": [
    "train_stats, train_semantic_pred = experiment.run_experiment(image_semantic_reg, train_image, train_semantic)"
   ]
  },
  {
   "cell_type": "code",
   "execution_count": 29,
   "metadata": {
    "scrolled": false
   },
   "outputs": [
    {
     "name": "stdout",
     "output_type": "stream",
     "text": [
      "{'RMSE': 0.10856691002845764, 'R2': 0.553380888114271}\n"
     ]
    }
   ],
   "source": [
    "val_stats, val_semantic_pred = experiment.run_experiment(image_semantic_reg, val_image, val_semantic)"
   ]
  },
  {
   "cell_type": "code",
   "execution_count": 32,
   "metadata": {},
   "outputs": [
    {
     "data": {
      "text/plain": [
       "array([0.39371884, 0.2658074 , 0.44323844, 0.5499176 , 0.11449365,\n",
       "       0.36957505, 0.8596678 , 0.68012685, 0.0854581 , 0.26743853,\n",
       "       0.4057957 , 0.12494516, 0.30007732, 0.86702925, 0.94195163,\n",
       "       0.7639547 , 0.9478284 , 0.67611986, 0.4997297 , 0.9002953 ,\n",
       "       0.4423493 , 0.2628653 , 0.33460957, 0.8297703 , 0.18913275,\n",
       "       0.75447553, 0.5629937 , 0.485982  , 0.51104844, 0.6184929 ,\n",
       "       0.5393361 ], dtype=float32)"
      ]
     },
     "execution_count": 32,
     "metadata": {},
     "output_type": "execute_result"
    }
   ],
   "source": [
    "np.matmul(image_semantic_reg.coef_, train_image[0]) + image_semantic_reg.intercept_"
   ]
  },
  {
   "cell_type": "code",
   "execution_count": 33,
   "metadata": {},
   "outputs": [
    {
     "data": {
      "text/plain": [
       "array([0.3937207 , 0.26580928, 0.44323922, 0.5499175 , 0.11449732,\n",
       "       0.36957753, 0.85966531, 0.68012569, 0.0854604 , 0.26744044,\n",
       "       0.40579383, 0.12494763, 0.30007925, 0.86702582, 0.94195076,\n",
       "       0.76395219, 0.9478269 , 0.67611948, 0.4997272 , 0.90029394,\n",
       "       0.44235098, 0.26286693, 0.33461168, 0.82976761, 0.18913256,\n",
       "       0.75447244, 0.56299514, 0.48598331, 0.51104709, 0.61849329,\n",
       "       0.53933688])"
      ]
     },
     "execution_count": 33,
     "metadata": {},
     "output_type": "execute_result"
    }
   ],
   "source": [
    "train_semantic[0]"
   ]
  },
  {
   "cell_type": "code",
   "execution_count": 35,
   "metadata": {},
   "outputs": [
    {
     "data": {
      "text/plain": [
       "array([[-1.04370818e-04,  6.13906886e-05, -1.78799964e-04, ...,\n",
       "         0.00000000e+00,  0.00000000e+00,  0.00000000e+00],\n",
       "       [ 2.00814102e-05, -2.82585388e-05, -1.02749094e-04, ...,\n",
       "         0.00000000e+00,  0.00000000e+00,  0.00000000e+00],\n",
       "       [-2.18792586e-04,  1.49730826e-04, -1.98266469e-04, ...,\n",
       "         0.00000000e+00,  0.00000000e+00,  0.00000000e+00],\n",
       "       ...,\n",
       "       [-2.42962851e-05,  2.39128713e-05,  3.73900402e-05, ...,\n",
       "         0.00000000e+00,  0.00000000e+00,  0.00000000e+00],\n",
       "       [-1.14406314e-04,  7.69624021e-05, -1.16322190e-04, ...,\n",
       "         0.00000000e+00,  0.00000000e+00,  0.00000000e+00],\n",
       "       [ 1.82972290e-05, -1.12727867e-05,  2.77321087e-05, ...,\n",
       "         0.00000000e+00,  0.00000000e+00,  0.00000000e+00]], dtype=float32)"
      ]
     },
     "execution_count": 35,
     "metadata": {},
     "output_type": "execute_result"
    }
   ],
   "source": [
    "image_semantic_reg.coef_"
   ]
  },
  {
   "cell_type": "markdown",
   "metadata": {},
   "source": [
    "### Multilayer Perceptron: Image -> Semantic"
   ]
  },
  {
   "cell_type": "code",
   "execution_count": null,
   "metadata": {},
   "outputs": [],
   "source": [
    "image_semantic_nn = neural_network.MLPRegressor(hidden_layer_sizes=(10,), max_iter=500)"
   ]
  },
  {
   "cell_type": "code",
   "execution_count": null,
   "metadata": {},
   "outputs": [],
   "source": [
    "image_semantic_nn.fit(train_image, train_semantic)"
   ]
  },
  {
   "cell_type": "code",
   "execution_count": null,
   "metadata": {
    "scrolled": true
   },
   "outputs": [],
   "source": [
    "train_stats, train_semantic_pred = experiment.run_experiment(image_semantic_nn, train_image, train_semantic)"
   ]
  },
  {
   "cell_type": "code",
   "execution_count": 33,
   "metadata": {
    "scrolled": false
   },
   "outputs": [
    {
     "name": "stdout",
     "output_type": "stream",
     "text": [
      "{'RMSE': 0.1747315675020218, 'R2': -0.3753219676038256}\n"
     ]
    }
   ],
   "source": [
    "val_stats, val_semantic_pred = experiment.run_experiment(image_semantic_nn, val_image, val_semantic)"
   ]
  },
  {
   "cell_type": "markdown",
   "metadata": {},
   "source": [
    "#### Example"
   ]
  }
 ],
 "metadata": {
  "kernelspec": {
   "display_name": "Python 3",
   "language": "python",
   "name": "python3"
  },
  "language_info": {
   "codemirror_mode": {
    "name": "ipython",
    "version": 3
   },
   "file_extension": ".py",
   "mimetype": "text/x-python",
   "name": "python",
   "nbconvert_exporter": "python",
   "pygments_lexer": "ipython3",
   "version": "3.6.6"
  }
 },
 "nbformat": 4,
 "nbformat_minor": 2
}
