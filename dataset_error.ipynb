{
 "cells": [
  {
   "cell_type": "code",
   "execution_count": 27,
   "metadata": {},
   "outputs": [],
   "source": [
    "import os\n",
    "import pandas as pd\n",
    "import numpy as np\n",
    "import pickle\n",
    "from sklearn.neighbors import KNeighborsRegressor\n",
    "from sklearn.svm import SVR\n",
    "from sklearn.model_selection import ShuffleSplit\n",
    "from sklearn.model_selection import GridSearchCV"
   ]
  },
  {
   "cell_type": "code",
   "execution_count": 28,
   "metadata": {},
   "outputs": [],
   "source": [
    "def get_weights_kulah(distances):\n",
    "\tk = distances.shape[1]\n",
    "\tnumerator = (np.sum(distances, axis=1) - distances.T).T\n",
    "\tdenominator = np.sum(distances)\n",
    "\tweights = (1 / (k - 1)) * (numerator/denominator)\n",
    "\treturn weights\n",
    "\n",
    "def get_hyper_params(filename):\n",
    "\thyper_params = {}\n",
    "\tif not os.path.exists(dir_path + filename):\n",
    "\t\tC_range = np.logspace(0, 4, 5)\n",
    "\t\tgamma_range = np.logspace(-10, -1, 10)\n",
    "\t\tparam_grid = dict(gamma=gamma_range, C=C_range)\n",
    "\t\tcv = ShuffleSplit(n_splits=5, test_size=0.2, random_state=42)\n",
    "\t\tgrid = GridSearchCV(SVR(kernel='rbf'), param_grid=param_grid, cv=cv)\n",
    "\t\tfor i in range(y.shape[1]):\n",
    "\t\t\tgrid.fit(X, y.iloc[:, i])\n",
    "\t\t\thyper_params[i] = grid.best_params_\n",
    "\t\t\t# print(\"The best parameters are %s with a score of %0.2f\"\n",
    "\t\t\t#       % (grid.best_params_, grid.best_score_))\n",
    "\t\twith open(dir_path + filename, 'wb') as file:\n",
    "\t\t\tpickle.dump(hyper_params, file, protocol=pickle.HIGHEST_PROTOCOL)\n",
    "\telse:\n",
    "\t\thyper_params = None\n",
    "\t\twith open(dir_path + filename, 'rb') as file:\n",
    "\t\t\thyper_params = pickle.load(file)\n",
    "\treturn hyper_params"
   ]
  },
  {
   "cell_type": "code",
   "execution_count": 29,
   "metadata": {},
   "outputs": [],
   "source": [
    "dir_path = 'data/'\n",
    "fj_unlabeled_font_vectors = pd.read_pickle(dir_path + 'fj_ul_font_vectors.pkl')\n",
    "fj_labeled_font_vectors = pd.read_pickle(dir_path + 'fj_l_font_vectors.pkl')\n",
    "common_attribute_labels = pd.read_pickle(dir_path + 'common_attribute_labels.pkl')\n",
    "\n",
    "attribute_names = np.loadtxt(dir_path + 'attrNames.txt', dtype=str)\n",
    "typographic_features = np.asarray(['font_name', 'capitals', 'cursive', 'display', 'italic', 'monospace', 'serif'])\n",
    "semantic_features = attribute_names[~np.isin(attribute_names, typographic_features)]"
   ]
  },
  {
   "cell_type": "code",
   "execution_count": 30,
   "metadata": {},
   "outputs": [],
   "source": [
    "X = fj_labeled_font_vectors.iloc[:, 1:]\n",
    "y = common_attribute_labels.iloc[:, 1:]"
   ]
  },
  {
   "cell_type": "code",
   "execution_count": 55,
   "metadata": {},
   "outputs": [],
   "source": [
    "error_by_attr_table = pd.DataFrame(data=[], index=semantic_features)\n",
    "error_table = pd.DataFrame(data=[])"
   ]
  },
  {
   "cell_type": "code",
   "execution_count": 56,
   "metadata": {},
   "outputs": [
    {
     "name": "stdout",
     "output_type": "stream",
     "text": [
      "Error by attribute (ordered):\n",
      "                        0\n",
      "gentle              0.051\n",
      "fresh               0.052\n",
      "delicate            0.055\n",
      "wide                0.058\n",
      "charming            0.060\n",
      "calm                0.064\n",
      "friendly            0.069\n",
      "soft                0.070\n",
      "strong              0.073\n",
      "attention-grabbing  0.075\n",
      "thin                0.078\n",
      "graceful            0.079\n",
      "sloppy              0.080\n",
      "happy               0.081\n",
      "attractive          0.082\n",
      "pretentious         0.085\n",
      "warm                0.087\n",
      "modern              0.088\n",
      "boring              0.091\n",
      "clumsy              0.095\n",
      "disorderly          0.096\n",
      "bad                 0.097\n",
      "legible             0.098\n",
      "artistic            0.101\n",
      "sharp               0.101\n",
      "playful             0.101\n",
      "formal              0.102\n",
      "dramatic            0.102\n",
      "angular             0.106\n",
      "complex             0.108\n",
      "technical           0.108\n"
     ]
    }
   ],
   "source": [
    "# Kulahcioglu KNN\n",
    "errors = []\n",
    "model = KNeighborsRegressor(n_neighbors=4, weights=get_weights_kulah, metric='cosine')\n",
    "for i, row in X.iterrows():\n",
    "    model.fit(X.drop(index=i), y.drop(index=i))\n",
    "    f_p = model.predict(X.iloc[i, :].values.reshape(1, -1)).flatten()\n",
    "    f_t = y.iloc[i, :].values\n",
    "    e = np.abs(f_t - f_p)\n",
    "    errors.append(e)\n",
    "errors = np.asarray(errors)\n",
    "avg_errors = np.mean(errors, axis=0)\n",
    "result = pd.DataFrame(data=avg_errors, index=attribute_names)\n",
    "semantic_result = result[result.index.isin(semantic_features)]\n",
    "\n",
    "print('Error by attribute (ordered by error, ascending):')\n",
    "print(semantic_result.sort_values(by=0).round(3))\n",
    "\n",
    "semantic_result.columns = ['Kulahcioglu KNN']\n",
    "error_by_attr_table = pd.concat([error_by_attr_table, semantic_result, ], axis=1)\n",
    "error_table = pd.concat([error_table, semantic_result.mean().round(3), ], axis=0)"
   ]
  },
  {
   "cell_type": "code",
   "execution_count": 57,
   "metadata": {},
   "outputs": [
    {
     "name": "stdout",
     "output_type": "stream",
     "text": [
      "Error by attribute (ordered):\n",
      "                        0\n",
      "gentle              0.047\n",
      "fresh               0.049\n",
      "delicate            0.052\n",
      "charming            0.055\n",
      "wide                0.057\n",
      "calm                0.062\n",
      "friendly            0.064\n",
      "soft                0.065\n",
      "strong              0.072\n",
      "attention-grabbing  0.073\n",
      "sloppy              0.073\n",
      "graceful            0.074\n",
      "happy               0.076\n",
      "attractive          0.079\n",
      "thin                0.081\n",
      "pretentious         0.082\n",
      "warm                0.085\n",
      "modern              0.085\n",
      "boring              0.085\n",
      "disorderly          0.091\n",
      "clumsy              0.092\n",
      "bad                 0.092\n",
      "legible             0.094\n",
      "sharp               0.095\n",
      "playful             0.095\n",
      "dramatic            0.095\n",
      "artistic            0.096\n",
      "formal              0.098\n",
      "complex             0.104\n",
      "angular             0.105\n",
      "technical           0.108\n"
     ]
    }
   ],
   "source": [
    "# Best KNN\n",
    "errors = []\n",
    "model = KNeighborsRegressor(n_neighbors=7, weights='distance', metric='cosine')\n",
    "for i, row in X.iterrows():\n",
    "    model.fit(X.drop(index=i), y.drop(index=i))\n",
    "    f_p = model.predict(X.iloc[i, :].values.reshape(1, -1)).flatten()\n",
    "    f_t = y.iloc[i, :].values\n",
    "    e = np.abs(f_t - f_p)\n",
    "    errors.append(e)\n",
    "errors = np.asarray(errors)\n",
    "avg_errors = np.mean(errors, axis=0)\n",
    "result = pd.DataFrame(data=avg_errors, index=attribute_names)\n",
    "semantic_result = result[result.index.isin(semantic_features)]\n",
    "\n",
    "print('Error by attribute (ordered by error, ascending):')\n",
    "print(semantic_result.sort_values(by=0).round(3))\n",
    "\n",
    "semantic_result.columns = ['Lowest Error KNN']\n",
    "error_by_attr_table = pd.concat([error_by_attr_table, semantic_result, ], axis=1)\n",
    "error_table = pd.concat([error_table, semantic_result.mean().round(3), ], axis=0)"
   ]
  },
  {
   "cell_type": "code",
   "execution_count": 58,
   "metadata": {
    "scrolled": true
   },
   "outputs": [
    {
     "name": "stdout",
     "output_type": "stream",
     "text": [
      "Error by attribute (ordered):\n",
      "                        0\n",
      "delicate            0.060\n",
      "charming            0.060\n",
      "soft                0.065\n",
      "fresh               0.065\n",
      "gentle              0.066\n",
      "strong              0.066\n",
      "wide                0.066\n",
      "friendly            0.067\n",
      "sloppy              0.067\n",
      "calm                0.070\n",
      "attention-grabbing  0.073\n",
      "happy               0.073\n",
      "thin                0.076\n",
      "attractive          0.077\n",
      "warm                0.079\n",
      "modern              0.080\n",
      "graceful            0.081\n",
      "pretentious         0.082\n",
      "clumsy              0.082\n",
      "bad                 0.084\n",
      "dramatic            0.087\n",
      "artistic            0.088\n",
      "legible             0.088\n",
      "playful             0.089\n",
      "disorderly          0.090\n",
      "complex             0.090\n",
      "boring              0.091\n",
      "sharp               0.092\n",
      "formal              0.092\n",
      "angular             0.095\n",
      "technical           0.107\n"
     ]
    }
   ],
   "source": [
    "# Best SVM\n",
    "hyper_params = get_hyper_params('hyper_params.pkl')\n",
    "result = []\n",
    "for i in range(y.shape[1]):\n",
    "    errors = []\n",
    "    y_1d = y.iloc[:, i]\n",
    "    model = SVR(kernel='rbf', C=hyper_params[i]['C'], gamma=hyper_params[i]['gamma'])\n",
    "    for j, row in X.iterrows():\n",
    "        model.fit(X.drop(index=j), y_1d.drop(index=j))\n",
    "        f_p = model.predict(X.iloc[j, :].values.reshape(1, -1)).flatten()\n",
    "        f_t = [y.iloc[j, i]]\n",
    "        e = np.abs(f_t - f_p)\n",
    "        errors.append(e)\n",
    "    errors = np.asarray(errors)\n",
    "    avg_error = np.mean(errors, axis=0)\n",
    "    result.append(avg_error)\n",
    "result = pd.DataFrame(data=result, index=attribute_names)\n",
    "semantic_result = result[result.index.isin(semantic_features)]\n",
    "\n",
    "print('Error by attribute (ordered by error, ascending):')\n",
    "print(semantic_result.sort_values(by=0).round(3))\n",
    "\n",
    "semantic_result.columns = ['Lowest Error SVM']\n",
    "error_by_attr_table = pd.concat([error_by_attr_table, semantic_result, ], axis=1)\n",
    "error_table = pd.concat([error_table, semantic_result.mean().round(3), ], axis=0)"
   ]
  },
  {
   "cell_type": "code",
   "execution_count": 64,
   "metadata": {},
   "outputs": [],
   "source": [
    "# potentially other models here"
   ]
  },
  {
   "cell_type": "code",
   "execution_count": 65,
   "metadata": {},
   "outputs": [
    {
     "name": "stdout",
     "output_type": "stream",
     "text": [
      "Error By Attribute Table (ordered alphabetically by semantic attribute name): \n",
      "                    Kulahcioglu KNN  Lowest Error KNN  Lowest Error SVM\n",
      "angular                    0.106042          0.105307          0.094690\n",
      "artistic                   0.100523          0.096274          0.087652\n",
      "attention-grabbing         0.074598          0.072855          0.073328\n",
      "attractive                 0.082439          0.079318          0.076957\n",
      "bad                        0.096762          0.091685          0.084426\n",
      "boring                     0.090999          0.085246          0.090782\n",
      "calm                       0.064256          0.062258          0.070130\n",
      "charming                   0.060042          0.055430          0.059798\n",
      "clumsy                     0.095413          0.091512          0.082222\n",
      "complex                    0.107579          0.103535          0.090366\n",
      "delicate                   0.055431          0.052378          0.059517\n",
      "disorderly                 0.095505          0.090648          0.089772\n",
      "dramatic                   0.102154          0.095308          0.086729\n",
      "formal                     0.101866          0.097576          0.092056\n",
      "fresh                      0.051569          0.049311          0.065396\n",
      "friendly                   0.068858          0.063639          0.066752\n",
      "gentle                     0.050738          0.047000          0.065785\n",
      "graceful                   0.078832          0.074318          0.080582\n",
      "happy                      0.081301          0.075958          0.073446\n",
      "legible                    0.097719          0.094105          0.088218\n",
      "modern                     0.088242          0.085022          0.080376\n",
      "playful                    0.100943          0.094765          0.088703\n",
      "pretentious                0.084787          0.081660          0.081630\n",
      "sharp                      0.100742          0.094511          0.091928\n",
      "sloppy                     0.080381          0.072910          0.066946\n",
      "soft                       0.070313          0.064835          0.064761\n",
      "strong                     0.073235          0.072205          0.066251\n",
      "technical                  0.107870          0.107610          0.107075\n",
      "thin                       0.078176          0.080687          0.076349\n",
      "warm                       0.086880          0.084538          0.079187\n",
      "wide                       0.057824          0.057159          0.066270\n"
     ]
    }
   ],
   "source": [
    "print('Error By Attribute Table (ordered alphabetically by semantic attribute name): ')\n",
    "print(error_by_attr_table)"
   ]
  },
  {
   "cell_type": "code",
   "execution_count": 66,
   "metadata": {},
   "outputs": [
    {
     "name": "stdout",
     "output_type": "stream",
     "text": [
      "Error Table:\n",
      "                  Error\n",
      "Kulahcioglu KNN   0.084\n",
      "Lowest Error KNN  0.080\n",
      "Lowest Error SVM  0.079\n"
     ]
    }
   ],
   "source": [
    "error_table.columns = ['Error']\n",
    "print('Error Table:')\n",
    "print(error_table)"
   ]
  },
  {
   "cell_type": "code",
   "execution_count": null,
   "metadata": {},
   "outputs": [],
   "source": []
  }
 ],
 "metadata": {
  "kernelspec": {
   "display_name": "Python 3",
   "language": "python",
   "name": "python3"
  },
  "language_info": {
   "codemirror_mode": {
    "name": "ipython",
    "version": 3
   },
   "file_extension": ".py",
   "mimetype": "text/x-python",
   "name": "python",
   "nbconvert_exporter": "python",
   "pygments_lexer": "ipython3",
   "version": "3.7.1"
  }
 },
 "nbformat": 4,
 "nbformat_minor": 2
}
