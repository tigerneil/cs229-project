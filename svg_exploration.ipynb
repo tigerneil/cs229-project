{
 "cells": [
  {
   "cell_type": "code",
   "execution_count": 1,
   "metadata": {},
   "outputs": [],
   "source": [
    "import drawSvg as draw"
   ]
  },
  {
   "cell_type": "code",
   "execution_count": 13,
   "metadata": {},
   "outputs": [],
   "source": [
    "def parse_svg_path(path_string, draw_commands=\"MmZzLlHhVvCcSsQqTtAa\"):\n",
    "    \n",
    "    def parse_helper(path_data):\n",
    "        # Adapted from codereview.stackexchange.com/questions/28502/svg-path-parsing/\n",
    "        digits = '0123456789eE'; whitespace = ', \\t\\n\\r\\f\\v'; sign = '+-'; exponent = 'eE'\n",
    "        flt = False; entity = ''\n",
    "        for char in path_data:\n",
    "            if char in digits:\n",
    "                entity += char\n",
    "            elif char in whitespace and entity:\n",
    "                yield entity\n",
    "                flt = False; entity = ''\n",
    "            elif char in draw_commands:\n",
    "                if entity:\n",
    "                    yield entity\n",
    "                    flt = False; entity = ''\n",
    "                yield \"~\" + char\n",
    "            elif char == '.':\n",
    "                if flt:\n",
    "                    yield entity\n",
    "                    entity = '.'\n",
    "                else:\n",
    "                    flt = True; entity += '.'\n",
    "            elif char in sign:\n",
    "                if entity and entity[-1] not in exponent:\n",
    "                    yield entity\n",
    "                    flt = False; entity = char\n",
    "                else:\n",
    "                    entity += char\n",
    "        if entity:\n",
    "            yield entity\n",
    "    \n",
    "    codes = {draw_commands[i]: i for i in range(len(draw_commands))}\n",
    "    def to_float(x):\n",
    "        try:\n",
    "            return float(x)\n",
    "        except:\n",
    "            return float(codes[x])\n",
    "    \n",
    "    as_str = ','.join([i for i in parse_helper(svg)]).split(\"~\")[1:]\n",
    "    as_list = [[to_float(x) for x in s.split(\",\")[:-1]] if len(s) > 1 else [to_float(s)] for s in as_str]\n",
    "\n",
    "    return as_list"
   ]
  },
  {
   "cell_type": "code",
   "execution_count": 33,
   "metadata": {},
   "outputs": [],
   "source": [
    "def draw_svg_path(path_list, size=(2000,2000), origin=(0,0), stroke_width=30, stroke=\"black\", fill_opacity=0.1, scale=0.1,\n",
    "                  draw_commands=\"MmZzLlHhVvCcSsQqTtAa\"):\n",
    "    drawing = draw.Drawing(*size, origin)\n",
    "    path = draw.Path(stroke_width=stroke_width, stroke=stroke, fill_opacity=fill_opacity)\n",
    "\n",
    "    reverse_codes = {i : draw_commands[i] for i in range(len(draw_commands))}\n",
    "    \n",
    "    for i, cmd in enumerate(path_list):\n",
    "        if reverse_codes[cmd[0]] == 'z':\n",
    "            f = path.Z\n",
    "        else:\n",
    "            f = getattr(path, reverse_codes[cmd[0]])\n",
    "        f(*cmd[1:])\n",
    "    drawing.append(path)\n",
    "    drawing.setPixelScale(scale)\n",
    "    return drawing"
   ]
  },
  {
   "cell_type": "code",
   "execution_count": 34,
   "metadata": {},
   "outputs": [],
   "source": [
    "svg = \"M169 0v1456h476q237 0 356.5 -98t119.5 -290q0 -102 -58 -180.5t-158 -121.5q118 -33 186.5 -125.5t68.5 -220.5q0 -196 -127 -308t-359 -112h-505zM361 681v-524h317q134 0 211.5 69.5t77.5 191.5q0 263 -286 263h-320zM361 835h290q126 0 201.5 63t75.5 171q0 120 -70 174.5t-213 54.5h-284v-463z\""
   ]
  },
  {
   "cell_type": "code",
   "execution_count": 35,
   "metadata": {
    "scrolled": false
   },
   "outputs": [
    {
     "data": {
      "image/svg+xml": [
       "<?xml version=\"1.0\" encoding=\"UTF-8\"?>\n",
       "<svg xmlns=\"http://www.w3.org/2000/svg\" xmlns:xlink=\"http://www.w3.org/1999/xlink\"\n",
       "     width=\"140.0\" height=\"140.0\" viewBox=\"0 -2000 2000 2000\">\n",
       "<defs>\n",
       "</defs>\n",
       "<path d=\"M169.0,-0.0 v-1456.0 h476.0 q237.0,-0.0,356.5,98.0 t119.5,290.0 q0.0,102.0,-58.0,180.5 t-158.0,121.5 q118.0,33.0,186.5,125.5 t68.5,220.5 q0.0,196.0,-127.0,308.0 t-359.0,112.0 h-505.0 Z M361.0,-681.0 v524.0 h317.0 q134.0,-0.0,211.5,-69.5 t77.5,-191.5 q0.0,-263.0,-286.0,-263.0 h-320.0 Z M361.0,-835.0 h290.0 q126.0,-0.0,201.5,-63.0 t75.5,-171.0 q0.0,-120.0,-70.0,-174.5 t-213.0,-54.5 h-284.0 v463.0 Z\" stroke-width=\"30\" stroke=\"black\" fill-opacity=\"0.1\" />\n",
       "</svg>"
      ],
      "text/plain": [
       "<drawSvg.drawing.Drawing at 0x10fef2f28>"
      ]
     },
     "execution_count": 35,
     "metadata": {},
     "output_type": "execute_result"
    }
   ],
   "source": [
    "draw_svg_path(parse_svg_path(svg), size=(2000,2000), origin=(0,0), scale=0.07)"
   ]
  },
  {
   "cell_type": "code",
   "execution_count": null,
   "metadata": {},
   "outputs": [],
   "source": []
  },
  {
   "cell_type": "code",
   "execution_count": null,
   "metadata": {},
   "outputs": [],
   "source": []
  }
 ],
 "metadata": {
  "kernelspec": {
   "display_name": "Python 3",
   "language": "python",
   "name": "python3"
  },
  "language_info": {
   "codemirror_mode": {
    "name": "ipython",
    "version": 3
   },
   "file_extension": ".py",
   "mimetype": "text/x-python",
   "name": "python",
   "nbconvert_exporter": "python",
   "pygments_lexer": "ipython3",
   "version": "3.6.6"
  }
 },
 "nbformat": 4,
 "nbformat_minor": 2
}
